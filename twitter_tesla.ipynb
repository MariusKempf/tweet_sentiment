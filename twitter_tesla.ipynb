{
 "cells": [
  {
   "cell_type": "code",
   "execution_count": 1,
   "metadata": {
    "collapsed": true
   },
   "outputs": [],
   "source": [
    "#Importe\n",
    "import twitter\n",
    "import time\n",
    "import csv"
   ]
  },
  {
   "cell_type": "markdown",
   "metadata": {},
   "source": [
    "# Twitter API *#tesla*"
   ]
  },
  {
   "cell_type": "code",
   "execution_count": 2,
   "metadata": {
    "collapsed": true
   },
   "outputs": [],
   "source": [
    "api = twitter.Api(consumer_key='dummy',\n",
    "                  consumer_secret='dummy',\n",
    "                  access_token_key='dummy',\n",
    "                  access_token_secret='dummy',\n",
    "                  tweet_mode=\"extended\")"
   ]
  },
  {
   "cell_type": "code",
   "execution_count": 3,
   "metadata": {
    "collapsed": true
   },
   "outputs": [],
   "source": [
    "search = api.GetSearch(raw_query=\"f=tweets&vertical=news&q=%23tesla-filter%3Aretweets&count=1\")\n",
    "\n",
    "while not search:\n",
    "    time.sleep(5)\n",
    "    search = api.GetSearch(raw_query=\"f=tweets&vertical=news&q=%23tesla-filter%3Aretweets&count=1\")"
   ]
  },
  {
   "cell_type": "code",
   "execution_count": 4,
   "metadata": {
    "collapsed": true
   },
   "outputs": [],
   "source": [
    "while True:\n",
    "    try:\n",
    "        if search[0].lang == \"en\":\n",
    "            break\n",
    "        else:\n",
    "            time.sleep(5)\n",
    "            search = api.GetSearch(raw_query=\"f=tweets&vertical=news&q=%23tesla-filter%3Aretweets&count=1\")\n",
    "            continue\n",
    "    except:\n",
    "        time.sleep(5)\n",
    "        continue"
   ]
  },
  {
   "cell_type": "code",
   "execution_count": null,
   "metadata": {
    "collapsed": true
   },
   "outputs": [],
   "source": [
    "csv.register_dialect('quotes', quotechar = '\"', quoting=csv.QUOTE_ALL)\n",
    "with open(\"data/raw/dataset_tesla2.csv\", \"a\", newline=\"\", encoding='utf8') as file:\n",
    "    file_writer = csv.writer(file, dialect='quotes')\n",
    "    file_writer.writerow([search[0].created_at, search[0].full_text.replace(\"\\n\", \" \")])\n"
   ]
  },
  {
   "cell_type": "code",
   "execution_count": null,
   "metadata": {},
   "outputs": [
    {
     "name": "stdout",
     "output_type": "stream",
     "text": [
      "Hey @elonmusk since we have so many anime personas of companies don’t you think it’s time someone made anime Tesla and Space X? 🤔 #Tesla #anime #Icantdraw #please #icantfinditanywhere\n"
     ]
    }
   ],
   "source": [
    "while True:\n",
    "    try:\n",
    "        time.sleep(5)\n",
    "        refresh = api.GetSearch(raw_query=\"f=tweets&vertical=news&q=%23tesla-filter%3Aretweets&count=1\")\n",
    "\n",
    "        if not refresh:\n",
    "            continue\n",
    "\n",
    "        if search[0].full_text != refresh[0].full_text and refresh[0].lang == \"en\":\n",
    "\n",
    "            search = refresh\n",
    "\n",
    "            with open(\"data/raw/dataset_tesla2.csv\", \"a\", newline=\"\", encoding='utf8') as file:\n",
    "                file_writer = csv.writer(file, dialect='quotes')\n",
    "                file_writer.writerow([search[0].created_at, search[0].full_text.replace(\"\\n\", \" \")])\n",
    "\n",
    "            print(search[0].full_text.replace(\"\\n\", \" \"))\n",
    "    except:\n",
    "        time.sleep(5)\n",
    "        continue"
   ]
  },
  {
   "cell_type": "code",
   "execution_count": null,
   "metadata": {
    "collapsed": true
   },
   "outputs": [],
   "source": []
  }
 ],
 "metadata": {
  "kernelspec": {
   "display_name": "Python 3",
   "language": "python",
   "name": "python3"
  },
  "language_info": {
   "codemirror_mode": {
    "name": "ipython",
    "version": 3
   },
   "file_extension": ".py",
   "mimetype": "text/x-python",
   "name": "python",
   "nbconvert_exporter": "python",
   "pygments_lexer": "ipython3",
   "version": "3.6.3"
  }
 },
 "nbformat": 4,
 "nbformat_minor": 2
}
