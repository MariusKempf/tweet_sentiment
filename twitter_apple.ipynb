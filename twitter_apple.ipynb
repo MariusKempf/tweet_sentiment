{
 "cells": [
  {
   "cell_type": "code",
   "execution_count": 1,
   "metadata": {
    "collapsed": true
   },
   "outputs": [],
   "source": [
    "#Importe\n",
    "import twitter\n",
    "import time\n",
    "import csv"
   ]
  },
  {
   "cell_type": "markdown",
   "metadata": {},
   "source": [
    "# Twitter API *#apple*\n",
    "Für den Zugriff auf die Twitter API benutzen wir das Package *python-twitter*. Gesammelt werden sollen englischsprachige Tweets die *\"#apple\"* enthalten.<br>\n",
    "Zuerst müssen wir uns bei der Twitter API mit den im Twitter Developer Account generierten Anmeldedaten registrieren."
   ]
  },
  {
   "cell_type": "code",
   "execution_count": 2,
   "metadata": {
    "collapsed": true
   },
   "outputs": [],
   "source": [
    "api = twitter.Api(consumer_key='dummy',\n",
    "                  consumer_secret='dummy',\n",
    "                  access_token_key='dummy',\n",
    "                  access_token_secret='dummy',\n",
    "                  tweet_mode=\"extended\") #Tweets sollen nicht gekürzt werden"
   ]
  },
  {
   "cell_type": "markdown",
   "metadata": {},
   "source": [
    "Die Suchanfrage *search* sucht nach dem neusten Tweet der das Keyword *\"#apple\"* enthält. Retweets werden bei der Suche ausgeschlossen.<br>\n",
    "Falls die Suche fehlschlägt wird jede 5 Sekunden eine neue Suchanfrage gestartet, um nicht die maximal zulässige Anzahl der Zugriffe auf die Twitter API von 150 Zugriffen pro 15 Minuten zu überschreiten."
   ]
  },
  {
   "cell_type": "code",
   "execution_count": 3,
   "metadata": {
    "collapsed": true
   },
   "outputs": [],
   "source": [
    "search = api.GetSearch(raw_query=\"f=tweets&vertical=news&q=%23apple-filter%3Aretweets&count=1\")\n",
    "\n",
    "while not search:\n",
    "    time.sleep(5)\n",
    "    search = api.GetSearch(raw_query=\"f=tweets&vertical=news&q=%23apple-filter%3Aretweets&count=1\")"
   ]
  },
  {
   "cell_type": "markdown",
   "metadata": {},
   "source": [
    "Nun muss noch einmal die Sprache des Tweets überprüft werden, da eine Query mit Language Tag \"*en*\" trotzdem Tweets in allen Sprachen liefert. Falls der Language Tag des Tweets nicht \"*en*\" ist wird deshalb solange eine neue Suchanfrage gestartet bis es sich um einen englischsprachigen Tweet handelt."
   ]
  },
  {
   "cell_type": "code",
   "execution_count": 4,
   "metadata": {
    "collapsed": true
   },
   "outputs": [],
   "source": [
    "while True:\n",
    "    try:\n",
    "        if search[0].lang == \"en\":\n",
    "            break\n",
    "        else:\n",
    "            time.sleep(5)\n",
    "            search = api.GetSearch(raw_query=\"f=tweets&vertical=news&q=%23apple-filter%3Aretweets&count=1\")\n",
    "            continue\n",
    "    except:\n",
    "        time.sleep(5)\n",
    "        continue"
   ]
  },
  {
   "cell_type": "markdown",
   "metadata": {},
   "source": [
    "Die Query liefert ein Objekt mit unzähligen verschiedenen Parametern des Tweets, wir benötigen aber nur das Datum an dem er gepostet wurde *\"created_at\"* und den Tweet selbst *\"full_text\"* ohne Zeilenumbrüche. Beide Einträge werden in eine csv-Datei geschrieben."
   ]
  },
  {
   "cell_type": "code",
   "execution_count": null,
   "metadata": {
    "collapsed": true
   },
   "outputs": [],
   "source": [
    "csv.register_dialect('quotes', quotechar = '\"', quoting=csv.QUOTE_ALL)\n",
    "with open(\"data/raw/dataset_apple2.csv\", \"a\", newline=\"\", encoding='utf8') as file:\n",
    "    file_writer = csv.writer(file, dialect='quotes')\n",
    "    file_writer.writerow([search[0].created_at, search[0].full_text.replace(\"\\n\", \" \")])"
   ]
  },
  {
   "cell_type": "markdown",
   "metadata": {},
   "source": [
    "Nun startet eine Endlosschleife, die jede 5 Sekunden nach dem neusten Tweet sucht und ihn mit dem letzen gefundenen vergleicht. Falls die Tweets nicht gleich sind, also inzwischen ein neuer Tweet gepostet wurde, wird der Tweet mit Datum in die csv-Datei geschrieben."
   ]
  },
  {
   "cell_type": "code",
   "execution_count": null,
   "metadata": {},
   "outputs": [
    {
     "name": "stdout",
     "output_type": "stream",
     "text": [
      "Belgian Apple Store is back online! Time to checkout the changes #apple #store #semonto  #1902040358\n"
     ]
    }
   ],
   "source": [
    "while True:\n",
    "    try:\n",
    "        time.sleep(5)\n",
    "        refresh = api.GetSearch(raw_query=\"f=tweets&vertical=news&q=%23apple-filter%3Aretweets&count=1\")\n",
    "\n",
    "        if not refresh:\n",
    "            continue\n",
    "\n",
    "        if search[0].full_text != refresh[0].full_text and refresh[0].lang == \"en\":\n",
    "            search = refresh\n",
    "            with open(\"data/raw/dataset_apple2.csv\", \"a\", newline=\"\", encoding='utf8') as file:\n",
    "                file_writer = csv.writer(file, dialect='quotes')\n",
    "                file_writer.writerow([search[0].created_at, search[0].full_text.replace(\"\\n\", \" \")])\n",
    "            print(search[0].full_text.replace(\"\\n\", \" \"))\n",
    "    except:\n",
    "        time.sleep(5)\n",
    "        continue"
   ]
  },
  {
   "cell_type": "code",
   "execution_count": null,
   "metadata": {
    "collapsed": true
   },
   "outputs": [],
   "source": []
  }
 ],
 "metadata": {
  "kernelspec": {
   "display_name": "Python 3",
   "language": "python",
   "name": "python3"
  },
  "language_info": {
   "codemirror_mode": {
    "name": "ipython",
    "version": 3
   },
   "file_extension": ".py",
   "mimetype": "text/x-python",
   "name": "python",
   "nbconvert_exporter": "python",
   "pygments_lexer": "ipython3",
   "version": "3.6.3"
  }
 },
 "nbformat": 4,
 "nbformat_minor": 2
}
